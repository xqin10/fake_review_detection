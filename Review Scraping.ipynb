{
 "cells": [
  {
   "cell_type": "code",
   "execution_count": 11,
   "metadata": {},
   "outputs": [],
   "source": [
    "import requests             \n",
    "from bs4 import BeautifulSoup \n",
    "import re"
   ]
  },
  {
   "cell_type": "code",
   "execution_count": 1,
   "metadata": {},
   "outputs": [],
   "source": [
    "# start_url = 'https://www.tripadvisor.com.au/Hotel_Review-g255100-d255744-Reviews-Atlantis_Hotel-Melbourne_Victoria.html'\n",
    "#start_url = 'https://www.tripadvisor.com.au/Restaurant_Review-g255100-d9554485-Reviews-or10-Hochi_Mama-Melbourne_Victoria.html#REVIEWS'\n",
    "# start_url = 'https://www.yelp.com/biz/the-meat-and-wine-co-melbourne-2'\n",
    "start_url = 'https://www.yelp.com/biz/the-meat-and-wine-co-melbourne-2?start=30'"
   ]
  },
  {
   "cell_type": "code",
   "execution_count": 4,
   "metadata": {},
   "outputs": [
    {
     "output_type": "stream",
     "name": "stdout",
     "text": [
      "https://www.yelp.com/biz/the-meat-and-wine-co-melbourne-2?start=30\n",
      "https://www.yelp.com/biz/the-meat-and-wine-co-melbourne-2?start=40\n",
      "https://www.yelp.com/biz/the-meat-and-wine-co-melbourne-2?start=50\n",
      "https://www.yelp.com/biz/the-meat-and-wine-co-melbourne-2?start=60\n",
      "https://www.yelp.com/biz/the-meat-and-wine-co-melbourne-2?start=70\n",
      "200\n",
      "{'review': \"Came here for lunch on a Friday with a friend who works close by and boyyyyy was this place packed even at 1:45pm. The service was great! Daniel our wait staff was friendly and everyone was just uber nice, from the guy who took us to our tables, to the guy who brought out our food to the one who kept asking if we wanted another drink. Definitely 5 stars for service. Food was amazing... I got the pulled pork burger with chips and my friend got battered fish and chips - delightful! This is definitely my go to place whenever I'm in southgate.\", 'review_rating': '5', 'review_date': '3/6/2016'}\n",
      "{'review': 'Warm beer and tough steak cooked wrong... Epic fail... Steak ordered medium, served blue, sent back, same piece returned almost well done, shriveled up and not nice at all.. My boss was paying and said I should order the wagyu rib-eye as it would be the \"best\". It was tiny, (maybe half the 300g on the menu). It was also very sinewy. I cook better steak from the supermarket at home than this. I couldn\\'t wait to get back to my hotel room so I could go and get some food. Bad, bad service; we never got the veges we ordered. Other people in our party had ribs and said they were good...Really noisy and hard to hear the waiters too.', 'review_rating': '1', 'review_date': '2/16/2017'}\n",
      "{'review': 'Really liked this place.Had a nice ambiance and friendly staff.Had the rump which came with a salad.The meat was well presented and had an excellent taste at medium rare.The salad was impressively fresh with a nice blend of lettuce and vegetables, had a nice vinaigrette dressing and was bigger than the condiment-sized salads that seem to be a trademark in that area of town.All and all I thought it was a very good value considering its location.', 'review_rating': '4', 'review_date': '5/16/2016'}\n",
      "{'review': \"Fascinating decor and atmosphere. Just loved it! Came here with a large group of hungries (12). Although we didn't have reservation and they were BUSY we got a table in less than a half hour. And in the mean time we were well tended at the upstairs bar. Nice!I had the beef kabob with chips and a peri peri dip. Just outstanding. Cooked perfectly and A LOT of food. A number of folks had the Lamb shank and the feedback was that it was nicely executed as well. It looked gooood too!Great wine selection and oh if you are a vegetarian don't be scared away, they have an assortment of options that folks In our group found very good too. Service was good. Host staff took great care of us. Give this place a try and let me know what YOU think.\", 'review_rating': '4', 'review_date': '5/10/2014'}\n",
      "{'review': 'Visited this establishment on Thursday night and confirmed why this is my favourite restaurant. Service was excellent and the food was sensational. I have never had a bad experience here!', 'review_rating': '5', 'review_date': '11/14/2015'}\n",
      "{'review': \"Specialising in steaks i find that they do a decent job on cooking the steaks. I've had my luck with over cooked steak and some steaks cooked perfectly. The price is decent for a steak if you're having a date night with your partner. Interior design is quiet fancy and is very romantic. They also have private rooms for functions and parties. Love the wine list as they have so much to offer. Great service\", 'review_rating': '3', 'review_date': '10/14/2015'}\n",
      "{'review': 'Great Steak Restaurant on the Yarra Valley river front. Great food, and wine list. Large portions, totally delish. Highly recommend', 'review_rating': '5', 'review_date': '5/29/2018'}\n",
      "{'review': \"The kangaroo was fantastic! It comes with onion rings, baked potato and a delicious sweety sauce. The best dish I had ever! The environment is nice and The service is fast. The prices aren't such high. It's worth!\", 'review_rating': '5', 'review_date': '5/24/2016'}\n",
      "{'review': \"One of my favourite fine dining restaurants! Food is absolutely amazing every time I go, waiters are absolutely kind and understanding and the atmosphere is 'just right'! Can't complain!\", 'review_rating': '5', 'review_date': '10/30/2017'}\n",
      "{'review': \"Travel to Melbourne 3 or 4 times a year and come here most trips - have been pre and post renovation and really enjoyed the atmosphere and setup both before and after.What surprises me is that coming from Adelaide where we do have some excellent steak venues in the form of Argentinian (Sosta, Gaucho, Buenos Aires etc), is that the steaks are priced on par if not cheaper then the Adelaide equivalent. Considering the Southbank location and excellent quality of food I was expecting far higher prices. Anyway on to the food -Tasting platter is always a excellent entre. I always stick with either the rib eye, pork ribs or the dish which combines both. Always great and on par with the best ribs and steak's i've had anywhere. Only minor complaint last visit is that my side of mash was extremely rich / creamy - too much butter/ cheese I assume. Wasn't like this before so probably a one off. Normally when I visit Southbank its at the start of a night out and I'm with a group having a few drinks. This is where the extensive spirit and wine menu comes in handy - one of the most impressive lists I've come across in a resturant. Plenty of premium scotch to choose from!I'll be back next visit\", 'review_rating': '5', 'review_date': '8/17/2014'}\n",
      "200\n",
      "{'review': \"Second time I have been here, first time was in Sydney.We tried to book a table with very short notice and couldn't get one, however the young lady on the phone told us to just pop in and we could go up to the bar and wait for a table as people always cancel or we could just eat and order in the bar. We chose to just eat and order in the bar as we don't particularly like waiting around for any food for too long :)Me and my partner ordered ribs and just as I had suspected they were ridiculously good ribs, I mean they are ridiculous.Wish this place was in Adelaide so we can taste all the magnificent items on the menu!Do yourself a favour and stop in!!!!\", 'review_rating': '5', 'review_date': '10/1/2014'}\n",
      "{'review': \"I went there with my girlfriend on her birthday. For entree, I ordered the scallop and prawn. The prawn was a bit spicy. For main, I ordered a rib eye and lamb rib. The rib eye was a bit disappointed with considering the price, however, the lamb rib was stunning with excellent seasoning. Also, I ordered a creme bulee and semiferddo. The desserts are all fantastic. What's more, the waiting staff were friendly and nice.\", 'review_rating': '4', 'review_date': '9/11/2016'}\n",
      "{'review': \"Been here several times and it never disappoints! If you're after a great steak fix this is one of the best places to go! Staff were great, friendly and knowledgeable about the food and wine. Have used the private dinning room upstairs for birthday dinners which has a great view of Southbank and the service was excellent. All the food came out at around the same time for the whole group and everyone was happy!\", 'review_rating': '5', 'review_date': '5/25/2017'}\n",
      "{'review': 'Excellent as always, Staff are friendly, attentive and know the menu well and are helpful with suggestions we where served by (Shaz, she was great) . The food is excellent would happily return here again and again. Prices are surprisingly good for the quality of food.', 'review_rating': '4', 'review_date': '8/13/2017'}\n",
      "{'review': 'This places ambience was incredible, quite mellow and the meat basically melted in my mouth. The only downfall is that I almost tripped over their carpet upon entering and their hot mustard is way too intense.', 'review_rating': '4', 'review_date': '6/9/2017'}\n",
      "{'review': 'I feel like I missed the boat here, as I tried the kangaroo steak for novelty reasons and was unimpressed compared to the delicious beef steaks all of my friends got. Definitely a good meal, but I had steak envy.', 'review_rating': '4', 'review_date': '2/15/2014'}\n",
      "{'review': \"The Meat and Wine Co is a steakhouse of the highest calibre. If you want aged beef that has been basting in house and then cooked to perfection, there are few places I know better than the Meat and Wine Co (perhaps The Italian does a better steak).The Meat & Wine Co, Melbourne is located at Freshwater Place, Queensbridge Square in Southbank and has stunning views of the Yarra River and the city skyline. The steaks are mammoth and delicious. They also specialize in ribs - lamb, beef and pork. Although you could be mistaken for confusing them for Flintstonesesque dinosaur ribs (they are HUGE). For $49, you can give go all out and have a steak and ribs. You even get a massive bib for the massive mess you are about to make.The Meat and Wine Co isn't cheap. But you do get a quality feed that is well worth it. Enjoy pigging out!\", 'review_rating': '4', 'review_date': '10/15/2011'}\n",
      "{'review': \"Next to and with views of the Yarra River this hip looking steak house is great. Good wine selection although nothing from CA or OR. The meats are very good quality but they overdue the orders a little but not enough to complain at the restaurant. The meats are complimented with a variety of sauces, tried two of them, one was great and the other slightly bland. The portugués suace was amazing and the garlic sauce was bland and tasteless. Service was good and attentive although multiple servers would come and top up our glasses which I don't like much, I rather our main server attend to us more. It was good just good. Maybe I'll try it again for AO 2018.\", 'review_rating': '3', 'review_date': '1/27/2017'}\n",
      "{'review': 'Love this place. It is casual yet trendy and comfortable. Steaks amazing and hubby went for Wagu rib eye. He is in heaven. I had the sumptuous Salmon on a hanging skewer cooked medium. Drink list well composed and happy hour drinks upstairs.', 'review_rating': '4', 'review_date': '11/23/2015'}\n",
      "{'review': 'I went to this restaurant 3 days in a row, from Sydney to Melbourne you cud c how much I lv this restaurant. Unfortunately I had an embarrassing dinning experience tonite. I saw a cockroach climbing slowly on the wall while I was dinning happily w my brother. I almost shouted when I saw it. It was really disgusting to cover the good taste of half rack of the beef rib. I guess no more four days in a row.', 'review_rating': '3', 'review_date': '8/6/2014'}\n",
      "200\n",
      "{'review': 'Food was great, but the wait staff pulled the rating down. I stopped by on a Tuesday night, and as a singleton, they were available to seat me immediately. Unfortunately my seat was all the way at the back of the restaurant, but hey - \"Party of One\", I didn\\'t expect much better. I waited a longish time after being seated to see a waiter and I was seriously considering walking out. My waiter did finally appear and I ordered a smallish steak with a side order of onion strings and macaroni and cheese. The steak was very tasty as were the side dishes. Overall I was happy with my experience, but the service could have been better - at least speeding up the first contact with the client. I understand that this is a very busy place and a single diner may not be the highest priority but it did pull down my rating a bit.', 'review_rating': '4', 'review_date': '8/30/2013'}\n",
      "{'review': \"I have been to this brand over a few years but in Darling Harbour not the South Bank one and it was awesome every time. This one just doesn't hit the mark at all! It now makes perfect sense that it has McDonalds to the left and TGI to the right! It's in great company. Very disappointing.\", 'review_rating': '2', 'review_date': '3/9/2018'}\n",
      "{'review': 'Was here for a 40th dinner with friends. The service is amazing and the food was so lovely!! My suggestion is that if you like your steak medium ask for medium rare. My steak was a little over cooked but still yummy!!!', 'review_rating': '4', 'review_date': '12/12/2016'}\n",
      "{'review': 'fantastic experience and extremely enjoy the food and wine there. the service is great and the view is good too.', 'review_rating': '5', 'review_date': '10/2/2016'}\n",
      "{'review': 'So far, our favorite food spot on our trip to Melbourne. Our group of 11 from the USA, all raved about how well seasoned and flavorful their dishes were. I had the Portuguese Chicken and chick pea salad and both were awesome. Food was served quickly to our large group. Atmosphere was industrial modern and very clean.', 'review_rating': '5', 'review_date': '8/17/2015'}\n",
      "{'review': \"-Should have been 4 stars as steaks were really good - but the wait staff ... although polite, they messed up a few times- Few errors such as sauces on steaks when not requested, wrong entrees etc, but the big one; 2 waitresses did not know what steaks (as in literally not even the cut) they were serving us. We have a pretty good knowledge of cuts so we could sort it out, but for people who don't, that could mean the difference between eating a $34 Monte rib-eye when you've ordered a $59 wagyu rib-eye-Chewy steak sandwich; steak was well-done-TL;DR: Great steaks, staff need more training\", 'review_rating': '3', 'review_date': '12/1/2012'}\n",
      "{'review': \"It's a chain restaurant, I know. But the steak is bloody good as all the rest, wine selection really interesting and lots of different food that you can choose from. I loved it!\", 'review_rating': '4', 'review_date': '4/30/2015'}\n",
      "{'review': 'I would give it more of a 4.5, but it was excellent! Started off with the pork belly appetizer, which was just fantastic. We then got the kangaroo steak, medium rare. It was pretty perfect. My buddy said the kangaroo steak was \"AMAZING\". Great atmosphere and very relaxed. I\\'d just say to make sure to make reservations well in advance, especially on weekend nights.', 'review_rating': '5', 'review_date': '1/3/2015'}\n",
      "{'review': 'Had a fantastic experience here on Tuesday night. Took some clients for dinner and we were all super impressed, the service was fantastic and all of our steaks were cooked to perfection.....recommended!!!', 'review_rating': '5', 'review_date': '9/21/2016'}\n",
      "{'review': \"Well, I think this is quite a decent place to have a steak. I ordered Medium Rare Rib Eye, but the waiter recommended a Medium instead. So I accepted his recommendation. But when he came it looked Medium Rare. So was it an error. or was it a wrong order. or is that their Medium . Not sure. but it still tasted good, no complains. Loved the African Hot Sauce, suits you only if you can have spicy food. cos' i love spicy :) definitely will go once in awhile.\", 'review_rating': '4', 'review_date': '6/9/2014'}\n",
      "200\n",
      "{'review': \"Definitely still a fan of this place..but I guess it's just my meat loving instincts taking over.I'm not much of a salad eater but, from the salads I've had in my lifetimes, this place makes the best caesar salad around (minus the anchovies).\", 'review_rating': '4', 'review_date': '6/15/2012'}\n",
      "{'review': 'Finally had the chance to experience the hypeWell I am pleased to say Meat & Wine Co. lived up to it Although only being a in Melb a short time I have had the chance to try out a number of steak houses and usually stick with 2 staples .... Steak and ShirazThe Rib-eye selected had been wonderfully aged and seasoned, then perfectly cooked resulting in the best steak I have experienced in Melbourne thus farThe chips were crispy and hot (which is a plus compared to some places) and the peppercorn sauce was good also The wine list was of reasonable length and provided for a decent priced Shiraz to accompany the mealDespite the warning of prices going in I was pleasantly surprised to find them similar to comparable Steak HousesHighly recommend if your after a steak worth remembering P.S. No salad was harmed in the consumption of this meal', 'review_rating': '4', 'review_date': '9/12/2012'}\n",
      "{'review': 'Food www okay and service was mediocre. For the price had hoped for much better. Also, no a/c so definitely not a hot day spot.', 'review_rating': '2', 'review_date': '3/1/2017'}\n",
      "{'review': 'Great staff and service we had a red balloon voucher I asked if they could change one of the mains and they did. Also we did not like the table we were seated in so we asked to move and we did. One of my favourite restaurants to go to. Fantastic tasty food!', 'review_rating': '4', 'review_date': '2/8/2014'}\n",
      "{'review': 'Great steak and a romantic/bromantic atmosphere. Never a disappointment. One of the best steakhouses around!', 'review_rating': '5', 'review_date': '8/13/2013'}\n",
      "{'review': \"Not being the biggest meat eater of all time, I was a little worried about what to order at the Meat & Wine Co. I ordered the kangaroo fillet which was cooked how it should be, a little rare but not too bloody and it was marinated beautifully. I haven't sampled much else on the menu but I am eager to return. This place gets busy so its recommended to book. Also a great venue for groups and work functions.\", 'review_rating': '3', 'review_date': '11/7/2011'}\n",
      "{'review': 'Great food, pity about the crappy service, our waitress was no where to be seen the entire night; had to keep asking other servers when we wanted more bottles of wine or to top up water. Plus their inability to cater for even the most basic needs of a disabled customer we were entertaining was flabbergasting!!!', 'review_rating': '1', 'review_date': '4/14/2014'}\n",
      "{'review': \"The only place I've found in Melbourne that cooks full sized beef ribs. WHich is about the only thing that can tide me over between trips to Texas.Steak and ribs are superb here, and a reservation is definitely recommended.The burger, however, is a travesty. Stick with the basic cuts of meat, devour the chunky, crispy fries and enjoy the extra iron hit from the red meat.\", 'review_rating': '3', 'review_date': '11/5/2011'}\n",
      "{'review': 'Our first night in Melbourne we asked the concierge of our hotel if they knew of a place that served kangaroo meat. He called around and after about 15 minutes found this place. He even called and got us reservations for that night. We got there and the place was packed. So we knew that this place would be good. I had kangaroo steak and my wife had a regular cow steak. The food was really good. The atmosphere was a little loud and they tried to maximize the amount of people in the restaurant. But over all the experience was fantastic. Would love to go back here again.', 'review_rating': '4', 'review_date': '4/11/2012'}\n",
      "{'review': 'I have been here about a year ago and today visited again. I ordered garlic bread which was like rock with no flavour. I also ordered my usual favourite.... Pork ribs. Very much lacked flavour. The quality of food has certainly dropped, I would normal give a five star.', 'review_rating': '3', 'review_date': '9/20/2014'}\n",
      "200\n",
      "{'review': 'As a South African living in Melbourne I am very proud of this restaurant showcasing good quality South African wines to the rest of Aus and the world and also giving them a small taste of what a South African restaurant is all about. A little bit of home far from home. Doen so voort manne!', 'review_rating': '5', 'review_date': '6/7/2012'}\n",
      "{'review': 'Each time I have eaten here, trully enjoyed it. ABSOLUTELY love the food. RIBS were perfect! Pricing as you would expect , though worth it.', 'review_rating': '5', 'review_date': '7/18/2013'}\n"
     ]
    }
   ],
   "source": [
    "# split the url to different parts\n",
    "url_parts = start_url.split('-Reviews-')\n",
    "urls = []\n",
    "reviewArr = []\n",
    "if \"Hotel_Review\" in start_url:\n",
    "    if \"-or\" not in start_url:\n",
    "        for page in range(0, 5):\n",
    "            url = url_parts[0]+'-Reviews-'+'or{}-'.format(5*page)+url_parts[1]\n",
    "            print(url)\n",
    "            urls.append(url)\n",
    "    else:\n",
    "        # find all URLS of reviews (define how many pages are needed, here we set it for 5 page) for this hotel\n",
    "        for page in range(int(int(url_parts[1][2:4])/5), int(int(url_parts[1][2:4])/5 + 5)):\n",
    "            url = url_parts[0]+'-Reviews-'+'or{}-'.format(5*page)+url_parts[1][5:]\n",
    "            print(url)\n",
    "            urls.append(url)\n",
    "    # extract all reviews from all urls and store in reviewArr(json objects)\n",
    "    for url in urls:\n",
    "        response = requests.get(url,timeout=10)\n",
    "        try:\n",
    "            status = response.status_code\n",
    "            print(status)\n",
    "        except Exception as e:\n",
    "            print(e)\n",
    "        content = BeautifulSoup(response.content,\"html.parser\")\n",
    "        for review in content.findAll('div', attrs={\"class\": \"_2wrUUKlw _3hFEdNs8\"}):\n",
    "            reviewObject = {\n",
    "                \"review_title\": review.find('div', attrs={\"class\": \"glasR4aX\"}).text,\n",
    "                \"review\": review.find('q', attrs={\"class\": \"IRsGHoPm\"}).get_text(separator='\\n'),\n",
    "                \"review_rating\":str(review.find('div', attrs={\"class\": \"nf9vGX55\"}).find('span'))[-11:-10],\n",
    "                \"date_of_stay\":review.find('span', attrs={\"class\": \"_34Xs-BQm\"}).text[14:],\n",
    "                \"review_date\": review.find('div', attrs={\"class\": \"_2fxQ4TOx\"}).text}\n",
    "            print(reviewObject)\n",
    "            reviewArr.append(reviewObject)\n",
    "elif \"Restaurant_Review\" in start_url:\n",
    "    if \"-or\" not in start_url:\n",
    "        for page in range(0,5):\n",
    "            url = url_parts[0]+'-Reviews-'+'or{}-'.format(10*page)+url_parts[1]\n",
    "            print(url)\n",
    "            urls.append(url)\n",
    "    else: \n",
    "        for page in range(int(int(url_parts[1][2:4])/10), int(int(url_parts[1][2:4])/10 + 5)):\n",
    "            url = url_parts[0]+'-Reviews-'+'or{}-'.format(10*page)+url_parts[1][5:]\n",
    "            print(url)\n",
    "            urls.append(url)\n",
    "    for url in urls:\n",
    "        response = requests.get(url,timeout=10)\n",
    "        try:\n",
    "            status = response.status_code\n",
    "            print(status)\n",
    "        except Exception as e:\n",
    "            print(e)\n",
    "        content = BeautifulSoup(response.content,\"html.parser\")\n",
    "        for review in content.findAll('div', attrs={\"class\": \"reviewSelector\"}):\n",
    "            reviewObject = {\n",
    "                \"review_title\": review.find('span', attrs={\"class\": \"noQuotes\"}).text,\n",
    "                \"review\": review.find('p', attrs={\"class\": \"partial_entry\"}).text.replace(\"\\n\", \"\"),\n",
    "                \"review_rating\":str(review.find('div',attrs={\"class\": \"ui_column is-9\"}).find('span'))[-11:-10],\n",
    "                \"date_of_visit\":review.find('div', attrs={\"class\": \"prw_rup prw_reviews_stay_date_hsx\"}).text[15:],\n",
    "                \"review_date\": review.find('span', attrs={\"class\": \"ratingDate\"}).text.strip()\n",
    "            }\n",
    "            print(reviewObject)\n",
    "            reviewArr.append(reviewObject)\n",
    "elif \"www.yelp.com\" in start_url:\n",
    "    if \"?start=\" not in start_url:\n",
    "        for page in range(0, 5):\n",
    "            url = start_url + '?start={}'.format(10*page)\n",
    "            print(url)\n",
    "            urls.append(url)\n",
    "    else:\n",
    "        for page in range(int(int(start_url[-2:])/10), int(int(start_url[-2:])/10 + 5)):\n",
    "            url = start_url[:-9] + '?start={}'.format(10*page)\n",
    "            print(url)\n",
    "            urls.append(url)\n",
    "    for url in urls:\n",
    "        response = requests.get(url,timeout=10)\n",
    "        try:\n",
    "            status = response.status_code\n",
    "            print(status)\n",
    "        except Exception as e:\n",
    "            print(e)\n",
    "        content = BeautifulSoup(response.content,\"html.parser\")\n",
    "        for review in content.findAll('div',{\"class\":\"review__373c0__13kpL border-color--default__373c0__2oFDT\"}):\n",
    "            reviewObject = {\n",
    "                \"review\": review.find('p', attrs={\"class\": \"comment__373c0__1M-px css-n6i4z7\"}).text.replace(\"\\xa0\", \"\"),\n",
    "                \"review_rating\": review.select('[aria-label*=rating]')[0]['aria-label'][:1],\n",
    "                \"review_date\": review.find('span', attrs={\"class\": \"css-e81eai\"}).text\n",
    "                }\n",
    "            print(reviewObject)\n",
    "            reviewArr.append(reviewObject)\n",
    "else: \n",
    "    print(\"Please only paste Valid URL of hotel or restaurant review from Trip Advisor and Yelp!\")"
   ]
  },
  {
   "cell_type": "code",
   "execution_count": 5,
   "metadata": {},
   "outputs": [],
   "source": [
    "response = requests.get(start_url,timeout=10)\n",
    "content = BeautifulSoup(response.content,\"html.parser\")"
   ]
  },
  {
   "cell_type": "code",
   "execution_count": 11,
   "metadata": {},
   "outputs": [],
   "source": [
    "divs = content.findAll('div',attrs={\"class\":\"ui_pagination\"})"
   ]
  },
  {
   "cell_type": "code",
   "execution_count": 12,
   "metadata": {},
   "outputs": [
    {
     "output_type": "execute_result",
     "data": {
      "text/plain": [
       "1"
      ]
     },
     "metadata": {},
     "execution_count": 12
    }
   ],
   "source": [
    "len(divs)"
   ]
  },
  {
   "cell_type": "code",
   "execution_count": 19,
   "metadata": {},
   "outputs": [
    {
     "output_type": "execute_result",
     "data": {
      "text/plain": [
       "<div class=\"ui_pagination is-centered\"><span class=\"ui_button nav previous secondary disabled\">Previous</span><a class=\"ui_button nav next primary\" href=\"/Hotel_Review-g255100-d255744-Reviews-or5-Atlantis_Hotel-Melbourne_Victoria.html\">Next</a><div class=\"pageNumbers\"><span class=\"pageNum current disabled\">1</span><a class=\"pageNum\" href=\"/Hotel_Review-g255100-d255744-Reviews-or5-Atlantis_Hotel-Melbourne_Victoria.html\">2</a><a class=\"pageNum\" href=\"/Hotel_Review-g255100-d255744-Reviews-or10-Atlantis_Hotel-Melbourne_Victoria.html\">3</a><a class=\"pageNum\" href=\"/Hotel_Review-g255100-d255744-Reviews-or15-Atlantis_Hotel-Melbourne_Victoria.html\">4</a><a class=\"pageNum\" href=\"/Hotel_Review-g255100-d255744-Reviews-or20-Atlantis_Hotel-Melbourne_Victoria.html\">5</a><a class=\"pageNum\" href=\"/Hotel_Review-g255100-d255744-Reviews-or25-Atlantis_Hotel-Melbourne_Victoria.html\">6</a><span class=\"separator\">…</span><a class=\"pageNum\" href=\"/Hotel_Review-g255100-d255744-Reviews-or2120-Atlantis_Hotel-Melbourne_Victoria.html\">425</a></div></div>"
      ]
     },
     "metadata": {},
     "execution_count": 19
    }
   ],
   "source": [
    "divs[0]"
   ]
  },
  {
   "cell_type": "code",
   "execution_count": 21,
   "metadata": {},
   "outputs": [
    {
     "output_type": "stream",
     "name": "stdout",
     "text": [
      "<span class=\"ui_button nav previous secondary disabled\">Previous</span>\n\n<a class=\"ui_button nav next primary\" href=\"/Hotel_Review-g255100-d255744-Reviews-or5-Atlantis_Hotel-Melbourne_Victoria.html\">Next</a>\n\n<div class=\"pageNumbers\"><span class=\"pageNum current disabled\">1</span><a class=\"pageNum\" href=\"/Hotel_Review-g255100-d255744-Reviews-or5-Atlantis_Hotel-Melbourne_Victoria.html\">2</a><a class=\"pageNum\" href=\"/Hotel_Review-g255100-d255744-Reviews-or10-Atlantis_Hotel-Melbourne_Victoria.html\">3</a><a class=\"pageNum\" href=\"/Hotel_Review-g255100-d255744-Reviews-or15-Atlantis_Hotel-Melbourne_Victoria.html\">4</a><a class=\"pageNum\" href=\"/Hotel_Review-g255100-d255744-Reviews-or20-Atlantis_Hotel-Melbourne_Victoria.html\">5</a><a class=\"pageNum\" href=\"/Hotel_Review-g255100-d255744-Reviews-or25-Atlantis_Hotel-Melbourne_Victoria.html\">6</a><span class=\"separator\">…</span><a class=\"pageNum\" href=\"/Hotel_Review-g255100-d255744-Reviews-or2120-Atlantis_Hotel-Melbourne_Victoria.html\">425</a></div>\n\n"
     ]
    }
   ],
   "source": [
    "for c in divs[0].children:\n",
    "    print(c)\n",
    "    print()"
   ]
  },
  {
   "cell_type": "code",
   "execution_count": 51,
   "metadata": {},
   "outputs": [
    {
     "output_type": "stream",
     "name": "stdout",
     "text": [
      "{'name': 'Previous', 'status': 'disable', 'url': None}\n{'name': 'Next', 'status': None, 'url': '/Hotel_Review-g255100-d255744-Reviews-or5-Atlantis_Hotel-Melbourne_Victoria.html'}\n{'name': '1', 'status': 'disable', 'url': None}\n{'name': '2', 'status': None, 'url': '/Hotel_Review-g255100-d255744-Reviews-or5-Atlantis_Hotel-Melbourne_Victoria.html'}\n{'name': '3', 'status': None, 'url': '/Hotel_Review-g255100-d255744-Reviews-or10-Atlantis_Hotel-Melbourne_Victoria.html'}\n{'name': '4', 'status': None, 'url': '/Hotel_Review-g255100-d255744-Reviews-or15-Atlantis_Hotel-Melbourne_Victoria.html'}\n{'name': '5', 'status': None, 'url': '/Hotel_Review-g255100-d255744-Reviews-or20-Atlantis_Hotel-Melbourne_Victoria.html'}\n{'name': '6', 'status': None, 'url': '/Hotel_Review-g255100-d255744-Reviews-or25-Atlantis_Hotel-Melbourne_Victoria.html'}\n{'name': '…', 'status': None, 'url': None}\n{'name': '425', 'status': None, 'url': '/Hotel_Review-g255100-d255744-Reviews-or2120-Atlantis_Hotel-Melbourne_Victoria.html'}\n"
     ]
    }
   ],
   "source": [
    "for c in divs[0].children:\n",
    "    if 'pageNumbers' in c['class']:\n",
    "        for cc in c.children:\n",
    "            # print(cc)\n",
    "            p = {}\n",
    "            p['name'] = cc.string\n",
    "            if 'disabled' in cc['class']:\n",
    "                p['status'] = 'disable'\n",
    "            else:\n",
    "                p['status'] = None\n",
    "            if 'href' in cc.attrs:\n",
    "                p['url'] = cc['href']\n",
    "            else:\n",
    "                p['url'] = None\n",
    "            print(p)\n",
    "    else:\n",
    "        p = {}\n",
    "        p['name'] = c.string\n",
    "        if 'disabled' in c['class']:\n",
    "            p['status'] = 'disable'\n",
    "        else:\n",
    "            p['status'] = None\n",
    "        if 'href' in c.attrs:\n",
    "            p['url'] = c['href']\n",
    "        else:\n",
    "            p['url'] = None\n",
    "        print(p)"
   ]
  },
  {
   "cell_type": "code",
   "execution_count": 28,
   "metadata": {},
   "outputs": [
    {
     "output_type": "execute_result",
     "data": {
      "text/plain": [
       "['ui_button', 'nav', 'previous', 'secondary', 'disabled']"
      ]
     },
     "metadata": {},
     "execution_count": 28
    }
   ],
   "source": [
    "divs[0].contents[0]['class']"
   ]
  },
  {
   "cell_type": "code",
   "execution_count": 40,
   "metadata": {},
   "outputs": [
    {
     "output_type": "execute_result",
     "data": {
      "text/plain": [
       "True"
      ]
     },
     "metadata": {},
     "execution_count": 40
    }
   ],
   "source": [
    "'href' in divs[0].contents[1].attrs"
   ]
  },
  {
   "cell_type": "code",
   "execution_count": 45,
   "metadata": {},
   "outputs": [
    {
     "output_type": "execute_result",
     "data": {
      "text/plain": [
       "1"
      ]
     },
     "metadata": {},
     "execution_count": 45
    }
   ],
   "source": [
    "len(divs[0].contents[1])"
   ]
  },
  {
   "cell_type": "code",
   "execution_count": 37,
   "metadata": {},
   "outputs": [
    {
     "output_type": "execute_result",
     "data": {
      "text/plain": [
       "'Previous'"
      ]
     },
     "metadata": {},
     "execution_count": 37
    }
   ],
   "source": [
    "divs[0].contents[0].string"
   ]
  },
  {
   "cell_type": "code",
   "execution_count": 33,
   "metadata": {},
   "outputs": [
    {
     "output_type": "execute_result",
     "data": {
      "text/plain": [
       "True"
      ]
     },
     "metadata": {},
     "execution_count": 33
    }
   ],
   "source": [
    "'next' in divs[0].contents[1]['class']"
   ]
  },
  {
   "cell_type": "code",
   "execution_count": 35,
   "metadata": {},
   "outputs": [
    {
     "output_type": "execute_result",
     "data": {
      "text/plain": [
       "[<span class=\"pageNum current disabled\">1</span>,\n",
       " <a class=\"pageNum\" href=\"/Hotel_Review-g255100-d255744-Reviews-or5-Atlantis_Hotel-Melbourne_Victoria.html\">2</a>,\n",
       " <a class=\"pageNum\" href=\"/Hotel_Review-g255100-d255744-Reviews-or10-Atlantis_Hotel-Melbourne_Victoria.html\">3</a>,\n",
       " <a class=\"pageNum\" href=\"/Hotel_Review-g255100-d255744-Reviews-or15-Atlantis_Hotel-Melbourne_Victoria.html\">4</a>,\n",
       " <a class=\"pageNum\" href=\"/Hotel_Review-g255100-d255744-Reviews-or20-Atlantis_Hotel-Melbourne_Victoria.html\">5</a>,\n",
       " <a class=\"pageNum\" href=\"/Hotel_Review-g255100-d255744-Reviews-or25-Atlantis_Hotel-Melbourne_Victoria.html\">6</a>,\n",
       " <span class=\"separator\">…</span>,\n",
       " <a class=\"pageNum\" href=\"/Hotel_Review-g255100-d255744-Reviews-or2120-Atlantis_Hotel-Melbourne_Victoria.html\">425</a>]"
      ]
     },
     "metadata": {},
     "execution_count": 35
    }
   ],
   "source": [
    "divs[0].contents[2].contents"
   ]
  },
  {
   "cell_type": "code",
   "execution_count": 13,
   "metadata": {},
   "outputs": [],
   "source": [
    "divs = content.find_all(name=\"div\",attrs={\"class\":re.compile(r\"navigation-button-container(\\s\\w+)?\")})"
   ]
  },
  {
   "cell_type": "code",
   "execution_count": 16,
   "metadata": {},
   "outputs": [
    {
     "output_type": "execute_result",
     "data": {
      "text/plain": [
       "<div class=\"navigation-button-container__373c0__2BpRi border-color--default__373c0__2oFDT\"><span class=\"css-15mgnpa\"><a class=\"prev-link navigation-button__373c0__136zu css-166la90\" href=\"#\" name=\"\" rel=\"\" role=\"link\" target=\"\"><span aria-hidden=\"true\" class=\"icon--24-chevron-left-v2 navigation-button-icon__373c0__2Fl7a css-12anxc3\"><svg class=\"icon_svg\" height=\"24\" width=\"24\"><path d=\"M14.25 17.58a1 1 0 01-.71-.3L9 12.7a1 1 0 010-1.4l4.5-4.58A1 1 0 0115 6.7a1 1 0 010 1.42L11.15 12 15 15.88a1 1 0 010 1.42 1 1 0 01-.75.28z\"></path></svg></span></a></span></div>"
      ]
     },
     "metadata": {},
     "execution_count": 16
    }
   ],
   "source": [
    "divs[0]"
   ]
  },
  {
   "cell_type": "code",
   "execution_count": 17,
   "metadata": {},
   "outputs": [
    {
     "output_type": "execute_result",
     "data": {
      "text/plain": [
       "<div class=\"navigation-button-container__373c0__2BpRi border-color--default__373c0__2oFDT\"><span class=\"css-15mgnpa\"><a class=\"next-link navigation-button__373c0__136zu css-166la90\" href=\"#\" name=\"\" rel=\"\" role=\"link\" target=\"\"><span aria-hidden=\"true\" class=\"icon--24-chevron-right-v2 navigation-button-icon__373c0__2Fl7a css-12anxc3\"><svg class=\"icon_svg\" height=\"24\" width=\"24\"><path d=\"M9.75 17.58a1 1 0 01-.7-.28 1 1 0 010-1.42l3.8-3.88L9 8.12a1 1 0 111.41-1.42L15 11.3a1 1 0 010 1.4l-4.5 4.58a1 1 0 01-.75.3z\"></path></svg></span></a></span></div>"
      ]
     },
     "metadata": {},
     "execution_count": 17
    }
   ],
   "source": [
    "divs[1]"
   ]
  },
  {
   "cell_type": "code",
   "execution_count": 18,
   "metadata": {},
   "outputs": [
    {
     "output_type": "execute_result",
     "data": {
      "text/plain": [
       "2"
      ]
     },
     "metadata": {},
     "execution_count": 18
    }
   ],
   "source": [
    "len(divs)"
   ]
  },
  {
   "cell_type": "code",
   "execution_count": 21,
   "metadata": {},
   "outputs": [
    {
     "output_type": "execute_result",
     "data": {
      "text/plain": [
       "<a class=\"prev-link navigation-button__373c0__136zu css-166la90\" href=\"#\" name=\"\" rel=\"\" role=\"link\" target=\"\"><span aria-hidden=\"true\" class=\"icon--24-chevron-left-v2 navigation-button-icon__373c0__2Fl7a css-12anxc3\"><svg class=\"icon_svg\" height=\"24\" width=\"24\"><path d=\"M14.25 17.58a1 1 0 01-.71-.3L9 12.7a1 1 0 010-1.4l4.5-4.58A1 1 0 0115 6.7a1 1 0 010 1.42L11.15 12 15 15.88a1 1 0 010 1.42 1 1 0 01-.75.28z\"></path></svg></span></a>"
      ]
     },
     "metadata": {},
     "execution_count": 21
    }
   ],
   "source": [
    "divs[0].find(\"a\",attrs={\"class\":\"prev-link\"})"
   ]
  },
  {
   "cell_type": "code",
   "execution_count": 22,
   "metadata": {},
   "outputs": [
    {
     "output_type": "execute_result",
     "data": {
      "text/plain": [
       "<a class=\"next-link navigation-button__373c0__136zu css-166la90\" href=\"#\" name=\"\" rel=\"\" role=\"link\" target=\"\"><span aria-hidden=\"true\" class=\"icon--24-chevron-right-v2 navigation-button-icon__373c0__2Fl7a css-12anxc3\"><svg class=\"icon_svg\" height=\"24\" width=\"24\"><path d=\"M9.75 17.58a1 1 0 01-.7-.28 1 1 0 010-1.42l3.8-3.88L9 8.12a1 1 0 111.41-1.42L15 11.3a1 1 0 010 1.4l-4.5 4.58a1 1 0 01-.75.3z\"></path></svg></span></a>"
      ]
     },
     "metadata": {},
     "execution_count": 22
    }
   ],
   "source": [
    "divs[1].find(\"a\",attrs={\"class\":\"next-link\"})"
   ]
  },
  {
   "cell_type": "code",
   "execution_count": null,
   "metadata": {},
   "outputs": [],
   "source": [
    "pagination-link-container"
   ]
  }
 ],
 "metadata": {
  "kernelspec": {
   "display_name": "Python 3",
   "language": "python",
   "name": "python3"
  },
  "language_info": {
   "codemirror_mode": {
    "name": "ipython",
    "version": 3
   },
   "file_extension": ".py",
   "mimetype": "text/x-python",
   "name": "python",
   "nbconvert_exporter": "python",
   "pygments_lexer": "ipython3",
   "version": "3.7.7"
  }
 },
 "nbformat": 4,
 "nbformat_minor": 4
}