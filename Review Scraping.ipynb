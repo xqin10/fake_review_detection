{
 "cells": [
  {
   "cell_type": "code",
   "execution_count": 1,
   "metadata": {},
   "outputs": [],
   "source": [
    "import requests             \n",
    "from bs4 import BeautifulSoup "
   ]
  },
  {
   "cell_type": "code",
   "execution_count": 19,
   "metadata": {},
   "outputs": [
    {
     "name": "stdout",
     "output_type": "stream",
     "text": [
      "https://www.tripadvisor.com.au/Restaurant_Review-g255100-d728473-Reviews-or0-Sud_Food_and_Wine-Melbourne_Victoria.html\n",
      "{'review_title': 'I travel for a living and', 'review': 'I travel for a living and have been for the last 7 years, internationally, domestically. I took my fiancé there for her birthday and it was by far the BEST service I have experienced anywhere! The food was absolutely excellent', 'review_rating': '5', 'date_of_visit': 'February 2021', 'review_date': 'Reviewed 26 February 2021'}\n",
      "{'review_title': 'A fantastic place', 'review': 'A small little surprise on of all places King St. SUD takes you back to a different era where excellent service and amazing home style food thrives. Between us we had quail and scallops for entree, pasta and schnitzel for mains and the salted caramel...donuts for dessert. Every dish was very good to excellent. You really cannot fault anything about this place. Highly recommend.More', 'review_rating': '5', 'date_of_visit': 'January 2021', 'review_date': 'Reviewed 25 January 2021'}\n",
      "{'review_title': 'Great to be back!', 'review': 'Have missed this dining experience so much. Exceptional food and service. Amazing traditional, fresh, well presented and tasty food. Open weekdays which great for that midweek meal.', 'review_rating': '5', 'date_of_visit': 'November 2020', 'review_date': 'Reviewed 10 November 2020'}\n",
      "{'review_title': \"Best Italian I've had in Melbourne\", 'review': \"Big statement but this is easily the best Italian food I've had in Melbourne - everything was perfect. Lots of love put into the food, friendly and funny service, and great drinks/wine. We've already made a booking to return - highly recommend!\", 'review_rating': '5', 'date_of_visit': 'November 2020', 'review_date': 'Reviewed 5 November 2020'}\n",
      "{'review_title': 'Atmospheric, authentic Italian with good food', 'review': 'A small Italian restaurant which was packed on a Wednesday night so we just managed to grab the last table as we hadn’t booked. The service was warm and friendly, our waiter very knowledgeable about the wine (although only a few were available by the...glass) and the food was absolutely delicious - probably the best pasta I’ve ever eaten. A couple of small negatives, on a wet windy evening it was a little cold inside and the owners bonhomie was rather loud at points in the evening as he regaled a large table with a number of enthusiastic anecdotes!More', 'review_rating': '5', 'date_of_visit': 'February 2020', 'review_date': 'Reviewed 8 April 2020'}\n",
      "{'review_title': 'Absolutely excellent ', 'review': 'Fantastic little restaurant with super friendly service.  Food was excellent as was the wine.  Loads of atmosphere.  One restaurant in Melbourne not to be missed.', 'review_rating': '5', 'date_of_visit': 'February 2020', 'review_date': 'Reviewed 25 February 2020'}\n",
      "{'review_title': 'Small restaurant with personality', 'review': 'An intimate Italian restaurant situated King street Melbourne This small restaurant boasts fantastic seasonal produce, allowing the menu to constantly evolve daily but also an excel wine list to compliment any meal.', 'review_rating': '5', 'date_of_visit': 'January 2020', 'review_date': 'Reviewed 25 January 2020'}\n",
      "{'review_title': 'Fantastic experience!', 'review': 'We had a lovely dinner at SUDS while we were in Melbourne. The hosts were friendly and informative and the food was delicious! We will definitely be recommending to others!', 'review_rating': '5', 'date_of_visit': 'January 2020', 'review_date': 'Reviewed 20 January 2020'}\n",
      "{'review_title': 'So good!', 'review': \"I went here for lunch with my partner on the day we were flying back home. We were woefully underdressed in hiking/travel attire and almost didn't go in because it looked too fancy. The reviews here persuaded us and we're so happy they did. This...might just have been *the* best dining experience we've ever had. Our hosts were so welcoming (I cannot stress that enough!) and enthusiastically told us about the specials and wines. The food was absolutely amazing, as well! Best risotto ever!We're definitely coming back this year - though slightly better dressed ;)More\", 'review_rating': '5', 'date_of_visit': 'August 2019', 'review_date': 'Reviewed 19 January 2020'}\n",
      "{'review_title': 'This is one of the best Italians', 'review': 'This is one of the best Italians in the heart of city! They stand as kings on King St. Fell in love with their food, collection of wines and amazing staff.', 'review_rating': '5', 'date_of_visit': 'November 2019', 'review_date': 'Reviewed 12 January 2020'}\n"
     ]
    }
   ],
   "source": [
    "#start_url = 'https://www.tripadvisor.com.au/Hotel_Review-g255100-d256844-Reviews-Park_Hyatt_Melbourne-Melbourne_Victoria.html'\n",
    "#start_url = 'https://www.tripadvisor.com.au/Hotel_Review-g255100-d255744-Reviews-Atlantis_Hotel-Melbourne_Victoria.html'\n",
    "#start_url = 'https://www.tripadvisor.com.au/Restaurant_Review-g255100-d12974395-Reviews-Foglia_di_Fico-Melbourne_Victoria.html'\n",
    "start_url = 'https://www.tripadvisor.com.au/Restaurant_Review-g255100-d728473-Reviews-Sud_Food_and_Wine-Melbourne_Victoria.html'\n",
    "# split the url to different parts\n",
    "url_parts = start_url.split('-Reviews-')\n",
    "#url_parts[0]\n",
    "#url_parts[1]\n",
    "#url_pattern = url_parts[0]+'-Reviews-'+'or{}-'+url_parts[1]\n",
    "#print(url_pattern)\n",
    "urls = []\n",
    "reviewArr = []\n",
    "if \"Hotel_Review\" in start_url:\n",
    "    # find all URLS of reviews (define how many pages are needed, here we set it for 1 page) for this hotel\n",
    "    for page in range(0,1):\n",
    "        url = url_parts[0]+'-Reviews-'+'or{}-'.format(5*page)+url_parts[1]\n",
    "        print(url)\n",
    "        urls.append(url)\n",
    "    # extract all reviews from all urls and store in reviewArr(json objects)\n",
    "    for url in urls:\n",
    "        response = requests.get(url,timeout=5)\n",
    "        content = BeautifulSoup(response.content,\"html.parser\")\n",
    "        for review in content.findAll('div', attrs={\"class\": \"_2wrUUKlw _3hFEdNs8\"}):\n",
    "            reviewObject = {\n",
    "                \"review_title\": review.find('div', attrs={\"class\": \"glasR4aX\"}).text,\n",
    "                \"review\": review.find('q', attrs={\"class\": \"IRsGHoPm\"}).get_text(separator='\\n'),\n",
    "                \"review_rating\":str(review.find('div', attrs={\"class\": \"nf9vGX55\"}).find('span'))[-11:-10],\n",
    "                \"date_of_stay\":review.find('span', attrs={\"class\": \"_34Xs-BQm\"}).text[14:],\n",
    "                \"review_date\": review.find('div', attrs={\"class\": \"_2fxQ4TOx\"}).text}\n",
    "            print(reviewObject)\n",
    "            reviewArr.append(reviewObject)\n",
    "    # extra elements from json object in array\n",
    "    #for obj in reviewArr:\n",
    "        #print(obj.get(\"review\"))\n",
    "elif \"Restaurant_Review\" in start_url:\n",
    "    # find all URLS of reviews (define how many pages are needed, here we set it for 1 pages) for this restaurant\n",
    "    for page in range(0,1):\n",
    "        url = url_parts[0]+'-Reviews-'+'or{}-'.format(10*page)+url_parts[1]\n",
    "        print(url)\n",
    "        urls.append(url)\n",
    "    # extract all reviews from all urls and store in reviewArr(json objects)\n",
    "    for url in urls:\n",
    "        response = requests.get(url,timeout=5)\n",
    "        content = BeautifulSoup(response.content,\"html.parser\")\n",
    "        for review in content.findAll('div', attrs={\"class\": \"reviewSelector\"}):\n",
    "            reviewObject = {\n",
    "                \"review_title\": review.find('span', attrs={\"class\": \"noQuotes\"}).text,\n",
    "                \"review\": review.find('p', attrs={\"class\": \"partial_entry\"}).text.replace(\"\\n\", \"\"),\n",
    "                \"review_rating\":str(review.find('div',attrs={\"class\": \"ui_column is-9\"}).find('span'))[-11:-10],\n",
    "                \"date_of_visit\":review.find('div', attrs={\"class\": \"prw_rup prw_reviews_stay_date_hsx\"}).text[15:],\n",
    "                \"review_date\": review.find('span', attrs={\"class\": \"ratingDate\"}).text.strip()\n",
    "            }\n",
    "            print(reviewObject)\n",
    "            reviewArr.append(reviewObject)\n",
    "else: \n",
    "    print(\"Please only paste URL of hotel or restaurant review from Trip Advisor!\")"
   ]
  },
  {
   "cell_type": "code",
   "execution_count": null,
   "metadata": {},
   "outputs": [],
   "source": []
  }
 ],
 "metadata": {
  "kernelspec": {
   "display_name": "Python 3",
   "language": "python",
   "name": "python3"
  },
  "language_info": {
   "codemirror_mode": {
    "name": "ipython",
    "version": 3
   },
   "file_extension": ".py",
   "mimetype": "text/x-python",
   "name": "python",
   "nbconvert_exporter": "python",
   "pygments_lexer": "ipython3",
   "version": "3.7.6"
  }
 },
 "nbformat": 4,
 "nbformat_minor": 4
}
