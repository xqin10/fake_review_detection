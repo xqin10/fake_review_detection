{
 "cells": [
  {
   "cell_type": "code",
   "execution_count": 11,
   "metadata": {},
   "outputs": [],
   "source": [
    "import requests             \n",
    "from bs4 import BeautifulSoup "
   ]
  },
  {
   "cell_type": "code",
   "execution_count": 16,
   "metadata": {},
   "outputs": [
    {
     "name": "stdout",
     "output_type": "stream",
     "text": [
      "https://www.tripadvisor.com.au/Hotel_Review-g255100-d255744-Reviews-or10-Atlantis_Hotel-Melbourne_Victoria.html\n",
      "{'review_title': 'Total waste of Time', 'review': \"We arrived and used the pool to find it was ice cold. We informed reception who were surprised and said it will definitely be warm for tomorrow. So we left it at that. Next day we tried the pool and again its cold so did not go in. Spoke to reception again who informed me that the pool was only reput onto heat recently and it takes 2 weeks for the pool to heat up again.   I had called prior to booking and I explicitly asked is the pool up and running and heated and the person capacity for it and was assured it was and 3 people limit. That the reception did not tell me this the first time I told them it was cold is shameful as I  would've said cancel the booking and found another hotel nearby that had a heated pool. We chose Atlantis because of its heated pool so that my daughter\\n…\", 'review_rating': '1', 'date_of_stay': 'November 2020', 'review_date': 'Nugget N wrote a review Nov 2020'}\n",
      "{'review_title': '1 night transition ', 'review': 'My employer booked this hotel not knowing there is a booking glitch designed to trip you up whereby the booking is made the day you book unless your vigilant to this glitch. Therefore I had to pay upon arrival 2 days after the original booking was made. No apologies were offered and certainly no refund was ever discussed. An aged hotel of youth hostel style accommodations.  Not recommended ', 'review_rating': '3', 'date_of_stay': 'June 2020', 'review_date': 'KevinP1314 wrote a review Jul 2020'}\n",
      "{'review_title': 'Excellent accommodation spotless', 'review': 'I recently stayed at the Atlantis Hotel Melbourne and will be staying again this week during the Corona Virus Pandemic. All precaution was taken when ordering breakfast which I was able to take back to my room. Staff are most helpful. My room was spotless and furniture modern. The hotel is in an ideal area and close to Southern Cross Station. I highly recommend this place for value as well as excellent customer service and close to transport.', 'review_rating': '5', 'date_of_stay': 'June 2020', 'review_date': 'FrequentFlier24257 wrote a review Jun 2020'}\n",
      "{'review_title': 'B4 Gold Coast holiday ', 'review': 'Stayed here again as we were flying to the Gold Coast the next day. Bed was comfy as shower was amazing not much of a view, close to everything in the city. Southern Cross station down the road. Skybus to the airport. ', 'review_rating': '5', 'date_of_stay': 'March 2020', 'review_date': 'Lor Lor wrote a review Mar 2020'}\n",
      "{'review_title': 'Safe not so Safe', 'review': 'Best Western Atlantis, Melbourne This hotel is in a great position for getting around Melbourne. A 7-8 minute walk to Southern Cross Station and the Tram network, the bus/coach station is across road 5 minutes away. The hotel itself met our needs and was clean and tidy. The reception staff were very helpful. Our bedroom was large with a newish bathroom that had a wet-room for showering. Because this is a business hotel it doesn’t provide much storage space for long stay travellers so most of our clothes stayed in the case. The Wi-fi worked well throughout the hotel and was free. There were about 17 floors but the lifts were fast and efficient to get you to and from your room. The hotel only provides a Continental breakfast option no other meals were available and there’s no bar\\n…', 'review_rating': '3', 'date_of_stay': 'March 2020', 'review_date': 'Andy S wrote a review Mar 2020'}\n"
     ]
    }
   ],
   "source": [
    "#start_url = 'https://www.tripadvisor.com.au/Hotel_Review-g255100-d256844-Reviews-Park_Hyatt_Melbourne-Melbourne_Victoria.html'\n",
    "start_url = 'https://www.tripadvisor.com.au/Hotel_Review-g255100-d255744-Reviews-or10-Atlantis_Hotel-Melbourne_Victoria.html'\n",
    "#start_url = 'https://www.tripadvisor.com.au/Restaurant_Review-g255100-d12974395-Reviews-Foglia_di_Fico-Melbourne_Victoria.html'\n",
    "#start_url = 'https://www.tripadvisor.com/Restaurant_Review-g255100-d12974395-Reviews-or10-Foglia_di_Fico-Melbourne_Victoria.html'\n",
    "# split the url to different parts\n",
    "url_parts = start_url.split('-Reviews-')\n",
    "#url_parts[0]\n",
    "#url_parts[1]\n",
    "#url_pattern = url_parts[0]+'-Reviews-'+'or{}-'+url_parts[1]\n",
    "#print(url_pattern)\n",
    "urls = []\n",
    "reviewArr = []\n",
    "if \"Hotel_Review\" in start_url:\n",
    "    # find all URLS of reviews (define how many pages are needed, here we set it for 1 page) for this hotel\n",
    "    if not \"or\" in start_url:\n",
    "        for page in range(0,1):\n",
    "            url = url_parts[0]+'-Reviews-'+'or{}-'.format(5*page)+url_parts[1]\n",
    "            print(url)\n",
    "            urls.append(url)\n",
    "    else: \n",
    "        url = start_url\n",
    "        print(url)\n",
    "        urls.append(url)\n",
    "    # extract all reviews from all urls and store in reviewArr(json objects)\n",
    "    for url in urls:\n",
    "        response = requests.get(url,timeout=5)\n",
    "        content = BeautifulSoup(response.content,\"html.parser\")\n",
    "        for review in content.findAll('div', attrs={\"class\": \"_2wrUUKlw _3hFEdNs8\"}):\n",
    "            reviewObject = {\n",
    "                \"review_title\": review.find('div', attrs={\"class\": \"glasR4aX\"}).text,\n",
    "                \"review\": review.find('q', attrs={\"class\": \"IRsGHoPm\"}).get_text(separator='\\n'),\n",
    "                \"review_rating\":str(review.find('div', attrs={\"class\": \"nf9vGX55\"}).find('span'))[-11:-10],\n",
    "                \"date_of_stay\":review.find('span', attrs={\"class\": \"_34Xs-BQm\"}).text[14:],\n",
    "                \"review_date\": review.find('div', attrs={\"class\": \"_2fxQ4TOx\"}).text}\n",
    "            print(reviewObject)\n",
    "            reviewArr.append(reviewObject)\n",
    "    # extra elements from json object in array\n",
    "    #for obj in reviewArr:\n",
    "        #print(obj.get(\"review\"))\n",
    "elif \"Restaurant_Review\" in start_url:\n",
    "    if not \"or\" in start_url:\n",
    "    # find all URLS of reviews (define how many pages are needed, here we set it for 1 pages) for this restaurant\n",
    "        for page in range(0,1):\n",
    "            url = url_parts[0]+'-Reviews-'+'or{}-'.format(10*page)+url_parts[1]\n",
    "            print(url)\n",
    "            urls.append(url)\n",
    "    else: \n",
    "        url = start_url\n",
    "        print(url)\n",
    "        urls.append(url)\n",
    "        # extract all reviews from all urls and store in reviewArr(json objects)\n",
    "    for url in urls:\n",
    "        response = requests.get(url,timeout=5)\n",
    "        content = BeautifulSoup(response.content,\"html.parser\")\n",
    "        for review in content.findAll('div', attrs={\"class\": \"reviewSelector\"}):\n",
    "            reviewObject = {\n",
    "            \"review_title\": review.find('span', attrs={\"class\": \"noQuotes\"}).text,\n",
    "            \"review\": review.find('p', attrs={\"class\": \"partial_entry\"}).text.replace(\"\\n\", \"\"),\n",
    "            \"review_rating\":str(review.find('div',attrs={\"class\": \"ui_column is-9\"}).find('span'))[-11:-10],\n",
    "            \"date_of_visit\":review.find('div', attrs={\"class\": \"prw_rup prw_reviews_stay_date_hsx\"}).text[15:],\n",
    "            \"review_date\": review.find('span', attrs={\"class\": \"ratingDate\"}).text.strip()\n",
    "            }\n",
    "            print(reviewObject)\n",
    "            reviewArr.append(reviewObject)\n",
    "else: \n",
    "    print(\"Please only paste URL of hotel or restaurant review from Trip Advisor!\")"
   ]
  },
  {
   "cell_type": "code",
   "execution_count": null,
   "metadata": {},
   "outputs": [],
   "source": []
  },
  {
   "cell_type": "code",
   "execution_count": null,
   "metadata": {},
   "outputs": [],
   "source": []
  },
  {
   "cell_type": "code",
   "execution_count": null,
   "metadata": {},
   "outputs": [],
   "source": []
  }
 ],
 "metadata": {
  "kernelspec": {
   "display_name": "Python 3",
   "language": "python",
   "name": "python3"
  },
  "language_info": {
   "codemirror_mode": {
    "name": "ipython",
    "version": 3
   },
   "file_extension": ".py",
   "mimetype": "text/x-python",
   "name": "python",
   "nbconvert_exporter": "python",
   "pygments_lexer": "ipython3",
   "version": "3.7.6"
  }
 },
 "nbformat": 4,
 "nbformat_minor": 4
}
