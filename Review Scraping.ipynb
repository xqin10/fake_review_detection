{
 "cells": [
  {
   "cell_type": "code",
   "execution_count": 131,
   "metadata": {},
   "outputs": [],
   "source": [
    "import requests             \n",
    "from bs4 import BeautifulSoup "
   ]
  },
  {
   "cell_type": "code",
   "execution_count": 133,
   "metadata": {},
   "outputs": [
    {
     "data": {
      "text/plain": [
       "'Park_Hyatt_Melbourne-Melbourne_Victoria.html'"
      ]
     },
     "execution_count": 133,
     "metadata": {},
     "output_type": "execute_result"
    }
   ],
   "source": [
    "start_url = 'https://www.tripadvisor.com.au/Hotel_Review-g255100-d256844-Reviews-Park_Hyatt_Melbourne-Melbourne_Victoria.html'\n",
    "# split the url to different parts\n",
    "url_parts = start_url.split('-Reviews-')\n",
    "#url_parts[0]\n",
    "#url_parts[1]\n",
    "#url_pattern = url_parts[0]+'-Reviews-'+'or{}-'+url_parts[1]\n",
    "#print(url_pattern)"
   ]
  },
  {
   "cell_type": "code",
   "execution_count": 136,
   "metadata": {},
   "outputs": [],
   "source": [
    "# find all URLS of reviews (define how many pages are needed) for this hotel\n",
    "urls = []\n",
    "for page in range(0,20):\n",
    "        url = url_parts[0]+'-Reviews-'+'or{}-'.format(5*page)+url_parts[1]\n",
    "        #print(url)\n",
    "        urls.append(url)"
   ]
  },
  {
   "cell_type": "code",
   "execution_count": 134,
   "metadata": {
    "scrolled": false
   },
   "outputs": [],
   "source": [
    "# extract all reviews from all urls and store in reviewArr(json objects)\n",
    "reviewArr = []\n",
    "for url in urls:\n",
    "    response = requests.get(url,timeout=5)\n",
    "    content = BeautifulSoup(response.content,\"html.parser\")\n",
    "    for review in content.findAll('div', attrs={\"class\": \"_2wrUUKlw _3hFEdNs8\"}):\n",
    "        reviewObject = {\n",
    "            \"review\": review.find('q', attrs={\"class\": \"IRsGHoPm\"}).text,\n",
    "            #\"date\": review.find('div', attrs={\"class\": \"_2fxQ4TOx\"}).text\n",
    "        }\n",
    "        print(reviewObject)\n",
    "        reviewArr.append(reviewObject)"
   ]
  },
  {
   "cell_type": "code",
   "execution_count": null,
   "metadata": {},
   "outputs": [],
   "source": [
    "# extra elements from json object in array\n",
    "for obj in reviewArr:\n",
    "    print(obj.get(\"review\"))"
   ]
  }
 ],
 "metadata": {
  "kernelspec": {
   "display_name": "Python 3",
   "language": "python",
   "name": "python3"
  },
  "language_info": {
   "codemirror_mode": {
    "name": "ipython",
    "version": 3
   },
   "file_extension": ".py",
   "mimetype": "text/x-python",
   "name": "python",
   "nbconvert_exporter": "python",
   "pygments_lexer": "ipython3",
   "version": "3.7.6"
  }
 },
 "nbformat": 4,
 "nbformat_minor": 4
}
