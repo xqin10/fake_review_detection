{
 "cells": [
  {
   "cell_type": "code",
   "execution_count": 142,
   "metadata": {},
   "outputs": [],
   "source": [
    "import requests             \n",
    "from bs4 import BeautifulSoup "
   ]
  },
  {
   "cell_type": "code",
   "execution_count": 159,
   "metadata": {},
   "outputs": [
    {
     "name": "stdout",
     "output_type": "stream",
     "text": [
      "https://www.tripadvisor.com.au/Restaurant_Review-g255100-d12974395-Reviews-or0-Foglia_di_Fico-Melbourne_Victoria.html\n",
      "{'review_rating': '4'}\n",
      "{'review_rating': '5'}\n",
      "{'review_rating': '5'}\n",
      "{'review_rating': '5'}\n",
      "{'review_rating': '5'}\n",
      "{'review_rating': '5'}\n",
      "{'review_rating': '5'}\n",
      "{'review_rating': '5'}\n",
      "{'review_rating': '5'}\n",
      "{'review_rating': '5'}\n",
      "{'review_rating': 'f'}\n",
      "{'review_rating': 'n'}\n"
     ]
    }
   ],
   "source": [
    "#start_url = 'https://www.tripadvisor.com.au/Hotel_Review-g255100-d256844-Reviews-Park_Hyatt_Melbourne-Melbourne_Victoria.html'\n",
    "#start_url = 'https://www.tripadvisor.com.au/Hotel_Review-g255100-d255744-Reviews-Atlantis_Hotel-Melbourne_Victoria.html'\n",
    "start_url = 'https://www.tripadvisor.com.au/Restaurant_Review-g255100-d12974395-Reviews-Foglia_di_Fico-Melbourne_Victoria.html'\n",
    "# split the url to different parts\n",
    "url_parts = start_url.split('-Reviews-')\n",
    "#url_parts[0]\n",
    "#url_parts[1]\n",
    "#url_pattern = url_parts[0]+'-Reviews-'+'or{}-'+url_parts[1]\n",
    "#print(url_pattern)\n",
    "urls = []\n",
    "reviewArr = []\n",
    "if \"Hotel_Review\" in start_url:\n",
    "    # find all URLS of reviews (define how many pages are needed, here we set it for 2 pages) for this hotel\n",
    "    for page in range(0,1):\n",
    "        url = url_parts[0]+'-Reviews-'+'or{}-'.format(5*page)+url_parts[1]\n",
    "        print(url)\n",
    "        urls.append(url)\n",
    "    # extract all reviews from all urls and store in reviewArr(json objects)\n",
    "    for url in urls:\n",
    "        response = requests.get(url,timeout=5)\n",
    "        content = BeautifulSoup(response.content,\"html.parser\")\n",
    "        for review in content.findAll('div', attrs={\"class\": \"_2wrUUKlw _3hFEdNs8\"}):\n",
    "            reviewObject = {\n",
    "                \"review_title\": review.find('div', attrs={\"class\": \"glasR4aX\"}).text,\n",
    "                \"review\": review.find('q', attrs={\"class\": \"IRsGHoPm\"}).text,\n",
    "                \"review_rating\":str(review.find('div', attrs={\"class\": \"nf9vGX55\"}).find('span'))[-11:-10],\n",
    "                \"date_of_stay\":review.find('span', attrs={\"class\": \"_34Xs-BQm\"}).text[14:],\n",
    "                \"review_date\": review.find('div', attrs={\"class\": \"_2fxQ4TOx\"}).text}\n",
    "            print(reviewObject)\n",
    "            reviewArr.append(reviewObject)\n",
    "    # extra elements from json object in array\n",
    "    #for obj in reviewArr:\n",
    "        #print(obj.get(\"review\"))\n",
    "elif \"Restaurant_Review\" in start_url:\n",
    "    # find all URLS of reviews (define how many pages are needed, here we set it for 2 pages) for this restaurant\n",
    "    for page in range(0,1):\n",
    "        url = url_parts[0]+'-Reviews-'+'or{}-'.format(10*page)+url_parts[1]\n",
    "        print(url)\n",
    "        urls.append(url)\n",
    "    # extract all reviews from all urls and store in reviewArr(json objects)\n",
    "    for url in urls:\n",
    "        response = requests.get(url,timeout=5)\n",
    "        content = BeautifulSoup(response.content,\"html.parser\")\n",
    "        for review in content.findAll('div', attrs={\"class\": \"ui_column is-9\"}):\n",
    "            reviewObject = {\n",
    "                #\"review_title\": review.find('span', attrs={\"class\": \"noQuotes\"})\n",
    "                #\"review\": review.find('p', attrs={\"class\": \"partial_entry\"})\n",
    "                \"review_rating\":str(review.find('span'))[-11:-10]\n",
    "               # \"date_of_visit\":review.find('div', attrs={\"class\": \"prw_rup prw_reviews_stay_date_hsx\"}).text[15:],\n",
    "                #\"review_date\": review.find('span', attrs={\"class\": \"ratingDate\"}).text.strip()\n",
    "            }\n",
    "            print(reviewObject)\n",
    "            reviewArr.append(reviewObject)\n",
    "else: \n",
    "    print(\"Please only paste URL of hotel or restaurant review from Trip Advisor!\")"
   ]
  },
  {
   "cell_type": "code",
   "execution_count": 165,
   "metadata": {},
   "outputs": [
    {
     "name": "stdout",
     "output_type": "stream",
     "text": [
      "{'review': <p class=\"partial_entry\">There were six of us who dined here on a Saturday night. We were given a choice of tables and chose a secluded one, to the side of the main entrance and just outside the toilets, as our host had advised that the restaurant was...<span class=\"postSnippet\">going to be full and it could get noisy. It was a good choice in terms of noise however as we were out of the main part of the restaurant we seemed to be a little neglected in terms of service and there was also a minor hiccup in the kitchen which resulted in two of the mains being delayed. The staff though, when we did get their attention, were very friendly.\n",
      "\n",
      "The menu was such that we all had difficulty in choosing dishes as they all looked delicious. Between us for starters we had the rainbow trout, the pan seared scallops, the char grilled octopus, vitello tonnato, the aranchini and the veal and pork meatballs. Everyone thought that their choice was excellent. \n",
      "\n",
      "As mains we had the duck risotto - delicious, the lamb and the chicken.\n",
      "\n",
      "We were all too full to have dessert.\n",
      "\n",
      "Wine list was quite varied with a mix of Italian and Australian wines.\n",
      "\n",
      "We will definitely visit again.</span><span class=\"taLnk ulBlueLinks\" onclick=\"widgetEvCall('handlers.clickExpand',event,this);\">More</span></p>}\n",
      "{'review': <p class=\"partial_entry\">Absolutely delicious and could not fault at all. We started with sharing an entree of Mixed Salumi Platter. My husband then had the Pappardelle with Goat Ragu whilst I enjoyed the the Squid ink pasta with seafood. Both were outstanding! Extensive wine list of which...<span class=\"postSnippet\">we enjoyed a Chianti. Excellent service too.</span><span class=\"taLnk ulBlueLinks\" onclick=\"widgetEvCall('handlers.clickExpand',event,this);\">More</span></p>}\n",
      "{'review': <p class=\"partial_entry\">One of the best, really liked it. Keep the good work guys, will be recommending you to our family and friends.</p>}\n",
      "{'review': <p class=\"partial_entry\">I ordered a superb pasta entree followed by a delicious fish dish. Could not fault it. The service was also professional, attentive, respectful and sincere. I would highly recommend this restaurant to anyone looking for a great food experience.</p>}\n",
      "{'review': <p class=\"partial_entry\">I’ve enjoyed their food and service for the first time after the long lockdown. Their food is always perfect and the service will make you feel like you are so welcome like family. This time I brought my friend who never been in fine dining...<span class=\"postSnippet\">restaurant. She was very happy with the service also too impressed by the food. Love this place!</span><span class=\"taLnk ulBlueLinks\" onclick=\"widgetEvCall('handlers.clickExpand',event,this);\">More</span></p>}\n",
      "{'review': <p class=\"partial_entry\">Totally changes your preconceived ideas of Italian dining. Very hospitable staff, caring and aware that you are a repeat client. Excellent chef and thank you kitchen staff for ensuring the meticulous details of the fine dining experience.</p>}\n",
      "{'review': <p class=\"partial_entry\">Probably the best Italian restaurant in Melbourne if not Australia. We had the 5 course degustation menu and it was just perfect. Each course was very nicely introduced by the staff with detailed descriptions of the ingredients. The menu was very well balanced with the...<span class=\"postSnippet\">right portion size. The flavours were amazing. \n",
      "The staff was very friendly and attentive. All this for a very acceptable price. Highly recommended!</span><span class=\"taLnk ulBlueLinks\" onclick=\"widgetEvCall('handlers.clickExpand',event,this);\">More</span></p>}\n",
      "{'review': <p class=\"partial_entry\">Excellent Italian style Restaurant. Complements to the chef Jerry for an unexpected food creations. Strongly recommended.</p>}\n",
      "{'review': <p class=\"partial_entry\">Atmosphere cosy &amp; lovely dim lights, staff are amazing made you feel at home! The food was the best Italian meal I have had in a long time.... It’s a must VISIT 😋</p>}\n",
      "{'review': <p class=\"partial_entry\">We had Caprese salad, Salumi platter, Seafood pasta, Rib eye steak, tart and coffee. The best and freshest caprese salad I ever had!!!</p>}\n",
      "{'review': None}\n",
      "{'review': None}\n"
     ]
    }
   ],
   "source": [
    "url = 'https://www.tripadvisor.com.au/Restaurant_Review-g255100-d12974395-Reviews-Foglia_di_Fico-Melbourne_Victoria.html'\n",
    "response = requests.get(url,timeout=5)\n",
    "content = BeautifulSoup(response.content,\"html.parser\")\n",
    "for review in content.findAll('div', attrs={\"class\": \"ui_column is-9\"}):\n",
    "    reviewObject = {\n",
    "        #\"review_title\": review.find('span', attrs={\"class\": \"noQuotes\"})\n",
    "        \"review\": review.find('p', attrs={\"class\": \"partial_entry\"})\n",
    "        #\"review_rating\":str(review.find('span'))[-11:-10],\n",
    "        #\"date_of_visit\":review.find('div', attrs={\"class\": \"prw_rup prw_reviews_stay_date_hsx\"}).text[15:]\n",
    "                #\"review_date\": review.find('span', attrs={\"class\": \"ratingDate\"}).text.strip()\n",
    "    }\n",
    "    print(reviewObject)\n",
    "    reviewArr.append(reviewObject)"
   ]
  },
  {
   "cell_type": "code",
   "execution_count": null,
   "metadata": {},
   "outputs": [],
   "source": []
  }
 ],
 "metadata": {
  "kernelspec": {
   "display_name": "Python 3",
   "language": "python",
   "name": "python3"
  },
  "language_info": {
   "codemirror_mode": {
    "name": "ipython",
    "version": 3
   },
   "file_extension": ".py",
   "mimetype": "text/x-python",
   "name": "python",
   "nbconvert_exporter": "python",
   "pygments_lexer": "ipython3",
   "version": "3.7.6"
  }
 },
 "nbformat": 4,
 "nbformat_minor": 4
}
